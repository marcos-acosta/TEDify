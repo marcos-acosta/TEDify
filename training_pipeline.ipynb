{
 "cells": [
  {
   "cell_type": "markdown",
   "id": "4e054a99",
   "metadata": {},
   "source": [
    "# Training Pipeline\n",
    "This notebook walks through the entire process of loading, cleaning, and encoding TED Talks, followed by the training, testing, and saving of a model."
   ]
  },
  {
   "cell_type": "code",
   "execution_count": 1,
   "id": "db27f589",
   "metadata": {},
   "outputs": [],
   "source": [
    "from sklearn.model_selection import train_test_split\n",
    "from sklearn.metrics import confusion_matrix\n",
    "from nltk.tokenize import sent_tokenize\n",
    "from nltk import word_tokenize\n",
    "from tensorflow.keras import layers\n",
    "from tensorflow import keras\n",
    "import matplotlib.pyplot as plt\n",
    "import tensorflow as tf\n",
    "import seaborn as sns\n",
    "import numpy as np\n",
    "import collections\n",
    "import random\n",
    "import json\n",
    "import re"
   ]
  },
  {
   "cell_type": "markdown",
   "id": "0d6c98fe",
   "metadata": {},
   "source": [
    "## Data loading and cleaning"
   ]
  },
  {
   "cell_type": "code",
   "execution_count": 2,
   "id": "d876e693",
   "metadata": {},
   "outputs": [],
   "source": [
    "# Load text\n",
    "with open('ted_scraped.txt') as f:\n",
    "    txt = f.readlines()"
   ]
  },
  {
   "cell_type": "code",
   "execution_count": 4,
   "id": "ca5dc63c",
   "metadata": {},
   "outputs": [],
   "source": [
    "NEXT = 'NNNNN'\n",
    "APPLAUSE = 'AAAAA'\n",
    "LAUGHTER = 'LLLLL'\n",
    "reactions = [\"😐\", \"👏\", \"😂\"]"
   ]
  },
  {
   "cell_type": "code",
   "execution_count": 5,
   "id": "fc0f6daf",
   "metadata": {},
   "outputs": [],
   "source": [
    "def clean_raw_text(txt):\n",
    "    ''' Top-level cleaning '''\n",
    "    # Extra spaces at the end of lines, again\n",
    "    txt = [line.strip() for line in txt]\n",
    "    # Non-breaking spaces\n",
    "    txt = [re.sub('\\xa0', ' ', line) for line in txt]\n",
    "    # Deal with stuff in parentheses\n",
    "    txt = [(LAUGHTER if line == '(Laughter)' else line) for line in txt]\n",
    "    txt = [(APPLAUSE if line == '(Applause)' else line) for line in txt]\n",
    "    txt = [(APPLAUSE if line == '(Cheering)' else line) for line in txt]\n",
    "    txt = [line for line in txt if (line[0] != '(' or line[-1] != ')')]\n",
    "    # Remove enclosing [] for slides text\n",
    "    txt = [(line[1:-1] if (line[0] == '[' and line[-1] == ']') else line) for line in txt]\n",
    "    # Remove anything else in parentheses\n",
    "    txt = [re.sub(r'\\((.*?)\\)', r'', line) for line in txt]\n",
    "    # Extra spaces at the end of lines, again\n",
    "    txt = [line.strip() for line in txt]\n",
    "    return txt\n",
    "\n",
    "def split_sentences(txt):\n",
    "    ''' Turn a list of texts into a list of sentences '''\n",
    "    new_txt = []\n",
    "    for line in txt:\n",
    "        sentences = sent_tokenize(line)\n",
    "        new_txt += sentences\n",
    "    return new_txt"
   ]
  },
  {
   "cell_type": "code",
   "execution_count": 11,
   "id": "365351ba",
   "metadata": {},
   "outputs": [],
   "source": [
    "# Clean and split sentences\n",
    "cleaned = clean_raw_text(txt)\n",
    "sentences = split_sentences(cleaned)"
   ]
  },
  {
   "cell_type": "markdown",
   "id": "a646da73",
   "metadata": {},
   "source": [
    "## Text encoding"
   ]
  },
  {
   "cell_type": "code",
   "execution_count": 27,
   "id": "9e597ffc",
   "metadata": {},
   "outputs": [],
   "source": [
    "# Only consider the top 20k words\n",
    "VOCAB_SIZE = 20000  \n",
    "# Only consider the first 200 words of each sample\n",
    "MAXLEN = 200"
   ]
  },
  {
   "cell_type": "code",
   "execution_count": 28,
   "id": "e6a626d4",
   "metadata": {},
   "outputs": [],
   "source": [
    "# Gratuitous punctuation can be replaced with more standard ones\n",
    "replace = {\n",
    "    '...': '.', \n",
    "    '--': '.', \n",
    "    ':': ',', \n",
    "    ';': ',',\n",
    "    '!': '.'\n",
    "}"
   ]
  },
  {
   "cell_type": "code",
   "execution_count": 29,
   "id": "88217207",
   "metadata": {},
   "outputs": [],
   "source": [
    "def clean_for_encoding(tokens):\n",
    "    ''' Filter tokens '''\n",
    "    # Remove weird quotation marks\n",
    "    tokens = [x for x in tokens if x not in ['``', \"''\"]]\n",
    "    # Replace weird punctuation with normal punctuation\n",
    "    tokens = [(replace[x] if x in replace else x) for x in tokens]\n",
    "    return tokens\n",
    "\n",
    "def get_encodings(text, vocab_size):\n",
    "    ''' Get word -> index and index -> word based on token frequency '''\n",
    "    tokens = word_tokenize(text.lower())\n",
    "    tokens = clean_for_encoding(tokens)\n",
    "    word_freqs = dict(collections.Counter(tokens))\n",
    "    word_freqs_list = [(k, v) for k, v in word_freqs.items()]\n",
    "    sorted_frequencies = sorted(word_freqs_list, key=lambda x: -x[1])\n",
    "    abridged = sorted_frequencies[:vocab_size]\n",
    "    index_to_word = [x[0] for x in abridged]\n",
    "    word_to_index = {}\n",
    "    for i, word in enumerate(index_to_word):\n",
    "        word_to_index[word] = i\n",
    "    return word_to_index, index_to_word\n",
    "\n",
    "def encode_sentence(text, word_to_index):\n",
    "    ''' Encode a sentence '''\n",
    "    tokenized = word_tokenize(text.lower())\n",
    "    tokenized = clean_for_encoding(tokenized)\n",
    "    return [word_to_index[word] for word in tokenized if word in word_to_index]"
   ]
  },
  {
   "cell_type": "code",
   "execution_count": 30,
   "id": "340ebce9",
   "metadata": {},
   "outputs": [],
   "source": [
    "# Don't include the NEXT token as a token\n",
    "sentences_no_next = [s for s in sentences if s != NEXT]"
   ]
  },
  {
   "cell_type": "code",
   "execution_count": 31,
   "id": "a367ee6c",
   "metadata": {},
   "outputs": [],
   "source": [
    "# Get encodings\n",
    "word_to_index, index_to_word = get_encodings(' '.join(sentences_no_next), vocab_size=VOCAB_SIZE)"
   ]
  },
  {
   "cell_type": "markdown",
   "id": "d24a81a4",
   "metadata": {},
   "source": [
    "Now we create our X and y data with a max-3-sentence sliding window to predict one of three reactions."
   ]
  },
  {
   "cell_type": "code",
   "execution_count": 32,
   "id": "49ba1119",
   "metadata": {},
   "outputs": [],
   "source": [
    "special = [APPLAUSE, LAUGHTER]\n",
    "\n",
    "def create_dataset(sentences, num_sentences=3):\n",
    "    ''' Create X and y data using sliding window approach '''\n",
    "    X = []\n",
    "    y = []\n",
    "    for i in range(len(sentences)):\n",
    "        # Don't end a sentence with a special\n",
    "        if sentences[i] in (special + [NEXT]):\n",
    "            continue\n",
    "        # Encode sentence\n",
    "        current_batch = encode_sentence(sentences[i], word_to_index)\n",
    "        retrace_index = 0\n",
    "        sentence_count = 1\n",
    "        # Pre-append sentences to the list until we hit our desired no. context sentences\n",
    "        while sentence_count < num_sentences:\n",
    "            retrace_index += 1\n",
    "            index = i - retrace_index\n",
    "            # If we hit the beginning of the speech, give up\n",
    "            if index < 0 or sentences[index] == NEXT:\n",
    "                break\n",
    "            # Skip specials\n",
    "            elif sentences[index] in special:\n",
    "                continue\n",
    "            current_batch = encode_sentence(sentences[index], word_to_index) + current_batch\n",
    "            sentence_count += 1\n",
    "        X.append(current_batch)\n",
    "        # y is the reaction following this sentence\n",
    "        if i < len(sentences) - 1 and sentences[i + 1] in special:\n",
    "            y.append(special.index(sentences[i + 1]) + 1)\n",
    "        # If no reaction, reaction is 0\n",
    "        else:\n",
    "            y.append(0)\n",
    "    return X, np.array(y)"
   ]
  },
  {
   "cell_type": "code",
   "execution_count": 100,
   "id": "3994928e",
   "metadata": {},
   "outputs": [],
   "source": [
    "X, y = create_dataset(sentences)"
   ]
  },
  {
   "cell_type": "code",
   "execution_count": 101,
   "id": "e82c8fe5",
   "metadata": {},
   "outputs": [
    {
     "data": {
      "text/plain": [
       "<AxesSubplot:ylabel='Count'>"
      ]
     },
     "execution_count": 101,
     "metadata": {},
     "output_type": "execute_result"
    },
    {
     "data": {
      "image/png": "[encoded data removed]",
      "text/plain": [
       "<Figure size 432x288 with 1 Axes>"
      ]
     },
     "metadata": {
      "needs_background": "light"
     },
     "output_type": "display_data"
    }
   ],
   "source": [
    "# Check the distribution of reactions\n",
    "sns.histplot(y, discrete=True)"
   ]
  },
  {
   "cell_type": "markdown",
   "id": "0f6f16c4",
   "metadata": {},
   "source": [
    "This is highly imbalanced, so we'll synthetically undersample the \"no reaction\" X data."
   ]
  },
  {
   "cell_type": "code",
   "execution_count": 35,
   "id": "bc29faf3",
   "metadata": {},
   "outputs": [],
   "source": [
    "def downsample_zeros(X, y, rate=(1/6)):\n",
    "    ''' Downsample class 0 with given rate '''\n",
    "    X_keep = []\n",
    "    y_keep = []\n",
    "    for i in range(len(X)):\n",
    "        if not (y[i] == 0 and random.random() > rate):\n",
    "            X_keep.append(X[i])\n",
    "            y_keep.append(y[i])\n",
    "    return X_keep, np.array(y_keep)"
   ]
  },
  {
   "cell_type": "code",
   "execution_count": 102,
   "id": "84cfadaa",
   "metadata": {},
   "outputs": [],
   "source": [
    "X, y = downsample_zeros(X, y, rate=(1/8))"
   ]
  },
  {
   "cell_type": "code",
   "execution_count": 103,
   "id": "bc5cccee",
   "metadata": {},
   "outputs": [
    {
     "data": {
      "text/plain": [
       "<AxesSubplot:ylabel='Count'>"
      ]
     },
     "execution_count": 103,
     "metadata": {},
     "output_type": "execute_result"
    },
    {
     "data": {
      "image/png": "[encoded data removed]",
      "text/plain": [
       "<Figure size 432x288 with 1 Axes>"
      ]
     },
     "metadata": {
      "needs_background": "light"
     },
     "output_type": "display_data"
    }
   ],
   "source": [
    "sns.histplot(y, discrete=True)"
   ]
  },
  {
   "cell_type": "markdown",
   "id": "af9a3e36",
   "metadata": {},
   "source": [
    "## Training and testing\n",
    "First we define the Transformer model."
   ]
  },
  {
   "cell_type": "code",
   "execution_count": 38,
   "id": "e4f98f6d",
   "metadata": {},
   "outputs": [],
   "source": [
    "class TransformerBlock(layers.Layer):\n",
    "    def __init__(self, embed_dim, num_heads, ff_dim, rate=0.1):\n",
    "        super(TransformerBlock, self).__init__()\n",
    "        self.att = layers.MultiHeadAttention(num_heads=num_heads, key_dim=embed_dim)\n",
    "        self.ffn = keras.Sequential(\n",
    "            [layers.Dense(ff_dim, activation=\"relu\"), layers.Dense(embed_dim),]\n",
    "        )\n",
    "        self.layernorm1 = layers.LayerNormalization(epsilon=1e-6)\n",
    "        self.layernorm2 = layers.LayerNormalization(epsilon=1e-6)\n",
    "        self.dropout1 = layers.Dropout(rate)\n",
    "        self.dropout2 = layers.Dropout(rate)\n",
    "\n",
    "    def call(self, inputs, training):\n",
    "        attn_output = self.att(inputs, inputs)\n",
    "        attn_output = self.dropout1(attn_output, training=training)\n",
    "        out1 = self.layernorm1(inputs + attn_output)\n",
    "        ffn_output = self.ffn(out1)\n",
    "        ffn_output = self.dropout2(ffn_output, training=training)\n",
    "        return self.layernorm2(out1 + ffn_output)"
   ]
  },
  {
   "cell_type": "code",
   "execution_count": 39,
   "id": "df44f9e3",
   "metadata": {},
   "outputs": [],
   "source": [
    "class TokenAndPositionEmbedding(layers.Layer):\n",
    "    def __init__(self, maxlen, vocab_size, embed_dim):\n",
    "        super(TokenAndPositionEmbedding, self).__init__()\n",
    "        self.token_emb = layers.Embedding(input_dim=vocab_size, output_dim=embed_dim)\n",
    "        self.pos_emb = layers.Embedding(input_dim=maxlen, output_dim=embed_dim)\n",
    "\n",
    "    def call(self, x):\n",
    "        maxlen = tf.shape(x)[-1]\n",
    "        positions = tf.range(start=0, limit=maxlen, delta=1)\n",
    "        positions = self.pos_emb(positions)\n",
    "        x = self.token_emb(x)\n",
    "        return x + positions"
   ]
  },
  {
   "cell_type": "code",
   "execution_count": 40,
   "id": "bb6f47ec",
   "metadata": {},
   "outputs": [],
   "source": [
    "def defineTransformer(embed_dim=64, num_heads=2, ff_dim=32):\n",
    "    ''' Define and return Transformer with given parameters '''\n",
    "    inputs = layers.Input(shape=(MAXLEN,))\n",
    "    embedding_layer = TokenAndPositionEmbedding(MAXLEN, VOCAB_SIZE, embed_dim)\n",
    "    x = embedding_layer(inputs)\n",
    "    transformer_block = TransformerBlock(embed_dim, num_heads, ff_dim)\n",
    "    x = transformer_block(x)\n",
    "    x = layers.GlobalAveragePooling1D()(x)\n",
    "    x = layers.Dropout(0.1)(x)\n",
    "    x = layers.Dense(20, activation=\"relu\")(x)\n",
    "    x = layers.Dropout(0.1)(x)\n",
    "    outputs = layers.Dense(3, activation=\"softmax\")(x)\n",
    "    model = keras.Model(inputs=inputs, outputs=outputs)\n",
    "    return model"
   ]
  },
  {
   "cell_type": "code",
   "execution_count": 104,
   "id": "f2d4f2a8",
   "metadata": {
    "scrolled": false
   },
   "outputs": [
    {
     "name": "stdout",
     "output_type": "stream",
     "text": [
      "Model: \"model_3\"\n",
      "_________________________________________________________________\n",
      "Layer (type)                 Output Shape              Param #   \n",
      "=================================================================\n",
      "input_4 (InputLayer)         [(None, 200)]             0         \n",
      "_________________________________________________________________\n",
      "token_and_position_embedding (None, 200, 64)           1292800   \n",
      "_________________________________________________________________\n",
      "transformer_block_3 (Transfo (None, 200, 64)           37664     \n",
      "_________________________________________________________________\n",
      "global_average_pooling1d_3 ( (None, 64)                0         \n",
      "_________________________________________________________________\n",
      "dropout_14 (Dropout)         (None, 64)                0         \n",
      "_________________________________________________________________\n",
      "dense_14 (Dense)             (None, 20)                1300      \n",
      "_________________________________________________________________\n",
      "dropout_15 (Dropout)         (None, 20)                0         \n",
      "_________________________________________________________________\n",
      "dense_15 (Dense)             (None, 3)                 63        \n",
      "=================================================================\n",
      "Total params: 1,331,827\n",
      "Trainable params: 1,331,827\n",
      "Non-trainable params: 0\n",
      "_________________________________________________________________\n"
     ]
    }
   ],
   "source": [
    "model = defineTransformer()\n",
    "model.summary()"
   ]
  },
  {
   "cell_type": "markdown",
   "id": "33221dc0",
   "metadata": {},
   "source": [
    "### Data preparation"
   ]
  },
  {
   "cell_type": "code",
   "execution_count": 105,
   "id": "5b7223b1",
   "metadata": {},
   "outputs": [],
   "source": [
    "# Split data into train and testing data\n",
    "X_train, X_val, y_train, y_val = train_test_split(X, y, test_size=0.1)"
   ]
  },
  {
   "cell_type": "code",
   "execution_count": 106,
   "id": "0150ec41",
   "metadata": {},
   "outputs": [],
   "source": [
    "# Pad sequences to a constant length\n",
    "X_train = keras.preprocessing.sequence.pad_sequences(X_train, maxlen=MAXLEN)\n",
    "X_val = keras.preprocessing.sequence.pad_sequences(X_val, maxlen=MAXLEN)"
   ]
  },
  {
   "cell_type": "markdown",
   "id": "d574d822",
   "metadata": {},
   "source": [
    "### Training and testing"
   ]
  },
  {
   "cell_type": "code",
   "execution_count": 107,
   "id": "b1faed67",
   "metadata": {
    "scrolled": false
   },
   "outputs": [
    {
     "name": "stdout",
     "output_type": "stream",
     "text": [
      "Epoch 1/5\n",
      "829/829 [==============================] - 37s 43ms/step - loss: 0.9032 - accuracy: 0.6268 - val_loss: 0.8514 - val_accuracy: 0.6312\n",
      "Epoch 2/5\n",
      "829/829 [==============================] - 38s 46ms/step - loss: 0.7717 - accuracy: 0.6547 - val_loss: 0.7299 - val_accuracy: 0.6790\n",
      "Epoch 3/5\n",
      "829/829 [==============================] - 40s 48ms/step - loss: 0.5330 - accuracy: 0.7790 - val_loss: 0.7849 - val_accuracy: 0.6356\n",
      "Epoch 4/5\n",
      "829/829 [==============================] - 40s 48ms/step - loss: 0.2672 - accuracy: 0.9043 - val_loss: 1.0289 - val_accuracy: 0.6399\n",
      "Epoch 5/5\n",
      "829/829 [==============================] - 39s 47ms/step - loss: 0.1451 - accuracy: 0.9527 - val_loss: 1.3452 - val_accuracy: 0.6746\n",
      "Epoch 00005: early stopping\n"
     ]
    }
   ],
   "source": [
    "N_EPOCHS = 5\n",
    "# Weights for minority class enforcing\n",
    "weights = {0: 1, 1: 1, 2: 1}\n",
    "\n",
    "model.compile(\"adam\", \"sparse_categorical_crossentropy\", metrics=[\"accuracy\"])\n",
    "history = model.fit(\n",
    "    X_train, y_train, batch_size=5, epochs=N_EPOCHS, \n",
    "    validation_data=(X_val, y_val), \n",
    "    class_weight=weights,\n",
    "    # Early stopping\n",
    "    callbacks=[keras.callbacks.EarlyStopping(monitor='val_loss', mode='min', verbose=1, patience=3)]\n",
    ")"
   ]
  },
  {
   "cell_type": "code",
   "execution_count": 108,
   "id": "83d170f5",
   "metadata": {},
   "outputs": [],
   "source": [
    "def plot_loss_history(history):\n",
    "    ''' Plot training and validation loss over epochs '''\n",
    "    loss_train = history.history['loss']\n",
    "    loss_val = history.history['val_loss']\n",
    "    epochs = range(0, len(loss_train))\n",
    "    plt.plot(epochs, loss_train, 'g', label='Training loss')\n",
    "    plt.plot(epochs, loss_val, 'b', label='validation loss')\n",
    "    plt.title('Training and Validation loss')\n",
    "    plt.xlabel('Epochs')\n",
    "    plt.ylabel('Loss')\n",
    "    plt.legend()\n",
    "    plt.show()"
   ]
  },
  {
   "cell_type": "code",
   "execution_count": 109,
   "id": "a2737d44",
   "metadata": {},
   "outputs": [
    {
     "data": {
      "image/png": "[encoded data removed]",
      "text/plain": [
       "<Figure size 432x288 with 1 Axes>"
      ]
     },
     "metadata": {
      "needs_background": "light"
     },
     "output_type": "display_data"
    }
   ],
   "source": [
    "plot_loss_history(history)"
   ]
  },
  {
   "cell_type": "code",
   "execution_count": 110,
   "id": "7faaf0c7",
   "metadata": {},
   "outputs": [],
   "source": [
    "# Make predictions\n",
    "predictions = model.predict(X_val)\n",
    "y_pred = np.argmax(predictions, axis=-1)"
   ]
  },
  {
   "cell_type": "code",
   "execution_count": 111,
   "id": "36eb187b",
   "metadata": {},
   "outputs": [
    {
     "data": {
      "image/png": "[encoded data removed]",
      "text/plain": [
       "<Figure size 432x288 with 2 Axes>"
      ]
     },
     "metadata": {
      "needs_background": "light"
     },
     "output_type": "display_data"
    }
   ],
   "source": [
    "# Check confusion matrix\n",
    "sns.heatmap(confusion_matrix(y_val, y_pred), annot=True)\n",
    "plt.xlabel(\"predicted\")\n",
    "plt.ylabel(\"truth\")\n",
    "plt.show()"
   ]
  },
  {
   "cell_type": "markdown",
   "id": "348081f1",
   "metadata": {},
   "source": [
    "### Qualitative test"
   ]
  },
  {
   "cell_type": "code",
   "execution_count": 122,
   "id": "a84702e3",
   "metadata": {},
   "outputs": [],
   "source": [
    "toy_text = [\n",
    "    \"NNNNN\", \n",
    "    \"I'd like to tell you about a call I got once as a school receptionist.\", \n",
    "    \"The person said, is this the school?\", \n",
    "    \"I said, no, this is Patrick.\", \n",
    "    \"On a more serious note, we need to talk about some serious issues. Our future generations will thank us for finally coming around to this planet-threatening issue.\",\n",
    "    \"Thank you.\"]"
   ]
  },
  {
   "cell_type": "code",
   "execution_count": 123,
   "id": "2666e1a8",
   "metadata": {},
   "outputs": [],
   "source": [
    "# Clean\n",
    "toy_cleaned = clean_raw_text(toy_text)\n",
    "toy_sentences = split_sentences(toy_cleaned)"
   ]
  },
  {
   "cell_type": "code",
   "execution_count": 124,
   "id": "d71e995c",
   "metadata": {},
   "outputs": [],
   "source": [
    "# Create windows and pad\n",
    "toy_X, _ = create_dataset(toy_sentences)\n",
    "toy_X = keras.preprocessing.sequence.pad_sequences(toy_X, maxlen=maxlen)"
   ]
  },
  {
   "cell_type": "code",
   "execution_count": 125,
   "id": "1f6d8193",
   "metadata": {},
   "outputs": [],
   "source": [
    "# Make predictions\n",
    "toy_pred = model.predict(toy_X)\n",
    "toy_pred = np.argmax(toy_pred, axis=-1)"
   ]
  },
  {
   "cell_type": "code",
   "execution_count": 126,
   "id": "ff2e9579",
   "metadata": {},
   "outputs": [
    {
     "name": "stdout",
     "output_type": "stream",
     "text": [
      "I'd like to tell you about a call I got once as a school receptionist.\n",
      ">> REACTION: 😐\n",
      "The person said, is this the school?\n",
      ">> REACTION: 😐\n",
      "I said, no, this is Patrick.\n",
      ">> REACTION: 😂\n",
      "On a more serious note, we need to talk about some serious issues.\n",
      ">> REACTION: 😐\n",
      "Our future generations will thank us for finally coming around to this planet-threatening issue.\n",
      ">> REACTION: 👏\n",
      "Thank you.\n",
      ">> REACTION: 👏\n"
     ]
    }
   ],
   "source": [
    "# Print reactions\n",
    "for i, sent in enumerate([s for s in toy_sentences if s != NEXT]):\n",
    "    print(sent)\n",
    "    print(f\">> REACTION: {reactions[toy_pred[i]]}\")"
   ]
  },
  {
   "cell_type": "markdown",
   "id": "5c6e4ffe",
   "metadata": {},
   "source": [
    "### Model persistence"
   ]
  },
  {
   "cell_type": "code",
   "execution_count": null,
   "id": "92b4016d",
   "metadata": {},
   "outputs": [],
   "source": [
    "SAVE_INDEX = 1"
   ]
  },
  {
   "cell_type": "code",
   "execution_count": null,
   "id": "6c19508a",
   "metadata": {},
   "outputs": [],
   "source": [
    "# Save model\n",
    "model.save(f'transformer_{SAVE_INDEX}')"
   ]
  },
  {
   "cell_type": "code",
   "execution_count": 52,
   "id": "043fa661",
   "metadata": {},
   "outputs": [],
   "source": [
    "# Save encodings\n",
    "with open(f'word_to_index_{SAVE_INDEX}.json', 'w') as f:\n",
    "    json.dump(word_to_index, f)"
   ]
  }
 ],
 "metadata": {
  "kernelspec": {
   "display_name": "Python 3",
   "language": "python",
   "name": "python3"
  },
  "language_info": {
   "codemirror_mode": {
    "name": "ipython",
    "version": 3
   },
   "file_extension": ".py",
   "mimetype": "text/x-python",
   "name": "python",
   "nbconvert_exporter": "python",
   "pygments_lexer": "ipython3",
   "version": "3.7.0"
  }
 },
 "nbformat": 4,
 "nbformat_minor": 5
}
